{
  "cells": [
    {
      "cell_type": "markdown",
      "metadata": {
        "id": "view-in-github",
        "colab_type": "text"
      },
      "source": [
        "<a href=\"https://colab.research.google.com/github/CGproject-record/survival_anaysis_try/blob/main/20230914_survival_analysis_in_random_forest_and_tree_gradient_boosting_and_extra_tree_with_evaluation%20colab.ipynb\" target=\"_parent\"><img src=\"https://colab.research.google.com/assets/colab-badge.svg\" alt=\"Open In Colab\"/></a>"
      ]
    },
    {
      "cell_type": "code",
      "execution_count": null,
      "id": "e628da38",
      "metadata": {
        "id": "e628da38"
      },
      "outputs": [],
      "source": [
        "# pip install scikit-survival"
      ]
    },
    {
      "cell_type": "code",
      "execution_count": null,
      "id": "3d6df374",
      "metadata": {
        "id": "3d6df374"
      },
      "outputs": [],
      "source": [
        "# Random forest"
      ]
    },
    {
      "cell_type": "code",
      "execution_count": null,
      "id": "3a2937a9",
      "metadata": {
        "id": "3a2937a9"
      },
      "outputs": [],
      "source": [
        "import matplotlib.pyplot as plt\n",
        "from sksurv.datasets import load_whas500\n",
        "from sksurv.ensemble import RandomSurvivalForest"
      ]
    },
    {
      "cell_type": "code",
      "execution_count": null,
      "id": "43afe3b1",
      "metadata": {
        "id": "43afe3b1"
      },
      "outputs": [],
      "source": [
        "X, y = load_whas500()\n",
        "X = X.astype(float)"
      ]
    },
    {
      "cell_type": "code",
      "execution_count": null,
      "id": "2475f4a6",
      "metadata": {
        "id": "2475f4a6",
        "outputId": "8ebb9af9-592e-4a48-b265-cabd87271651"
      },
      "outputs": [
        {
          "data": {
            "text/html": [
              "<div>\n",
              "<style scoped>\n",
              "    .dataframe tbody tr th:only-of-type {\n",
              "        vertical-align: middle;\n",
              "    }\n",
              "\n",
              "    .dataframe tbody tr th {\n",
              "        vertical-align: top;\n",
              "    }\n",
              "\n",
              "    .dataframe thead th {\n",
              "        text-align: right;\n",
              "    }\n",
              "</style>\n",
              "<table border=\"1\" class=\"dataframe\">\n",
              "  <thead>\n",
              "    <tr style=\"text-align: right;\">\n",
              "      <th></th>\n",
              "      <th>afb</th>\n",
              "      <th>age</th>\n",
              "      <th>av3</th>\n",
              "      <th>bmi</th>\n",
              "      <th>chf</th>\n",
              "      <th>cvd</th>\n",
              "      <th>diasbp</th>\n",
              "      <th>gender</th>\n",
              "      <th>hr</th>\n",
              "      <th>los</th>\n",
              "      <th>miord</th>\n",
              "      <th>mitype</th>\n",
              "      <th>sho</th>\n",
              "      <th>sysbp</th>\n",
              "    </tr>\n",
              "  </thead>\n",
              "  <tbody>\n",
              "    <tr>\n",
              "      <th>0</th>\n",
              "      <td>1.0</td>\n",
              "      <td>83.0</td>\n",
              "      <td>0.0</td>\n",
              "      <td>25.54051</td>\n",
              "      <td>0.0</td>\n",
              "      <td>1.0</td>\n",
              "      <td>78.0</td>\n",
              "      <td>0.0</td>\n",
              "      <td>89.0</td>\n",
              "      <td>5.0</td>\n",
              "      <td>1.0</td>\n",
              "      <td>0.0</td>\n",
              "      <td>0.0</td>\n",
              "      <td>152.0</td>\n",
              "    </tr>\n",
              "    <tr>\n",
              "      <th>1</th>\n",
              "      <td>0.0</td>\n",
              "      <td>49.0</td>\n",
              "      <td>0.0</td>\n",
              "      <td>24.02398</td>\n",
              "      <td>0.0</td>\n",
              "      <td>1.0</td>\n",
              "      <td>60.0</td>\n",
              "      <td>0.0</td>\n",
              "      <td>84.0</td>\n",
              "      <td>5.0</td>\n",
              "      <td>0.0</td>\n",
              "      <td>1.0</td>\n",
              "      <td>0.0</td>\n",
              "      <td>120.0</td>\n",
              "    </tr>\n",
              "    <tr>\n",
              "      <th>2</th>\n",
              "      <td>0.0</td>\n",
              "      <td>70.0</td>\n",
              "      <td>0.0</td>\n",
              "      <td>22.14290</td>\n",
              "      <td>0.0</td>\n",
              "      <td>0.0</td>\n",
              "      <td>88.0</td>\n",
              "      <td>1.0</td>\n",
              "      <td>83.0</td>\n",
              "      <td>5.0</td>\n",
              "      <td>0.0</td>\n",
              "      <td>1.0</td>\n",
              "      <td>0.0</td>\n",
              "      <td>147.0</td>\n",
              "    </tr>\n",
              "    <tr>\n",
              "      <th>3</th>\n",
              "      <td>0.0</td>\n",
              "      <td>70.0</td>\n",
              "      <td>0.0</td>\n",
              "      <td>26.63187</td>\n",
              "      <td>1.0</td>\n",
              "      <td>1.0</td>\n",
              "      <td>76.0</td>\n",
              "      <td>0.0</td>\n",
              "      <td>65.0</td>\n",
              "      <td>10.0</td>\n",
              "      <td>0.0</td>\n",
              "      <td>1.0</td>\n",
              "      <td>0.0</td>\n",
              "      <td>123.0</td>\n",
              "    </tr>\n",
              "    <tr>\n",
              "      <th>4</th>\n",
              "      <td>0.0</td>\n",
              "      <td>70.0</td>\n",
              "      <td>0.0</td>\n",
              "      <td>24.41255</td>\n",
              "      <td>0.0</td>\n",
              "      <td>1.0</td>\n",
              "      <td>85.0</td>\n",
              "      <td>0.0</td>\n",
              "      <td>63.0</td>\n",
              "      <td>6.0</td>\n",
              "      <td>0.0</td>\n",
              "      <td>1.0</td>\n",
              "      <td>0.0</td>\n",
              "      <td>135.0</td>\n",
              "    </tr>\n",
              "    <tr>\n",
              "      <th>...</th>\n",
              "      <td>...</td>\n",
              "      <td>...</td>\n",
              "      <td>...</td>\n",
              "      <td>...</td>\n",
              "      <td>...</td>\n",
              "      <td>...</td>\n",
              "      <td>...</td>\n",
              "      <td>...</td>\n",
              "      <td>...</td>\n",
              "      <td>...</td>\n",
              "      <td>...</td>\n",
              "      <td>...</td>\n",
              "      <td>...</td>\n",
              "      <td>...</td>\n",
              "    </tr>\n",
              "    <tr>\n",
              "      <th>495</th>\n",
              "      <td>1.0</td>\n",
              "      <td>76.0</td>\n",
              "      <td>0.0</td>\n",
              "      <td>27.96454</td>\n",
              "      <td>0.0</td>\n",
              "      <td>1.0</td>\n",
              "      <td>88.0</td>\n",
              "      <td>1.0</td>\n",
              "      <td>68.0</td>\n",
              "      <td>1.0</td>\n",
              "      <td>0.0</td>\n",
              "      <td>1.0</td>\n",
              "      <td>0.0</td>\n",
              "      <td>112.0</td>\n",
              "    </tr>\n",
              "    <tr>\n",
              "      <th>496</th>\n",
              "      <td>0.0</td>\n",
              "      <td>76.0</td>\n",
              "      <td>0.0</td>\n",
              "      <td>24.26862</td>\n",
              "      <td>0.0</td>\n",
              "      <td>1.0</td>\n",
              "      <td>96.0</td>\n",
              "      <td>1.0</td>\n",
              "      <td>88.0</td>\n",
              "      <td>3.0</td>\n",
              "      <td>0.0</td>\n",
              "      <td>0.0</td>\n",
              "      <td>0.0</td>\n",
              "      <td>208.0</td>\n",
              "    </tr>\n",
              "    <tr>\n",
              "      <th>497</th>\n",
              "      <td>1.0</td>\n",
              "      <td>57.0</td>\n",
              "      <td>0.0</td>\n",
              "      <td>42.13576</td>\n",
              "      <td>0.0</td>\n",
              "      <td>1.0</td>\n",
              "      <td>74.0</td>\n",
              "      <td>1.0</td>\n",
              "      <td>123.0</td>\n",
              "      <td>3.0</td>\n",
              "      <td>0.0</td>\n",
              "      <td>0.0</td>\n",
              "      <td>0.0</td>\n",
              "      <td>120.0</td>\n",
              "    </tr>\n",
              "    <tr>\n",
              "      <th>498</th>\n",
              "      <td>0.0</td>\n",
              "      <td>67.0</td>\n",
              "      <td>0.0</td>\n",
              "      <td>27.40905</td>\n",
              "      <td>0.0</td>\n",
              "      <td>1.0</td>\n",
              "      <td>62.0</td>\n",
              "      <td>0.0</td>\n",
              "      <td>59.0</td>\n",
              "      <td>1.0</td>\n",
              "      <td>0.0</td>\n",
              "      <td>1.0</td>\n",
              "      <td>0.0</td>\n",
              "      <td>112.0</td>\n",
              "    </tr>\n",
              "    <tr>\n",
              "      <th>499</th>\n",
              "      <td>0.0</td>\n",
              "      <td>98.0</td>\n",
              "      <td>0.0</td>\n",
              "      <td>19.48575</td>\n",
              "      <td>0.0</td>\n",
              "      <td>1.0</td>\n",
              "      <td>100.0</td>\n",
              "      <td>0.0</td>\n",
              "      <td>99.0</td>\n",
              "      <td>3.0</td>\n",
              "      <td>0.0</td>\n",
              "      <td>1.0</td>\n",
              "      <td>0.0</td>\n",
              "      <td>160.0</td>\n",
              "    </tr>\n",
              "  </tbody>\n",
              "</table>\n",
              "<p>500 rows × 14 columns</p>\n",
              "</div>"
            ],
            "text/plain": [
              "     afb   age  av3       bmi  chf  cvd  diasbp  gender     hr   los  miord  \\\n",
              "0    1.0  83.0  0.0  25.54051  0.0  1.0    78.0     0.0   89.0   5.0    1.0   \n",
              "1    0.0  49.0  0.0  24.02398  0.0  1.0    60.0     0.0   84.0   5.0    0.0   \n",
              "2    0.0  70.0  0.0  22.14290  0.0  0.0    88.0     1.0   83.0   5.0    0.0   \n",
              "3    0.0  70.0  0.0  26.63187  1.0  1.0    76.0     0.0   65.0  10.0    0.0   \n",
              "4    0.0  70.0  0.0  24.41255  0.0  1.0    85.0     0.0   63.0   6.0    0.0   \n",
              "..   ...   ...  ...       ...  ...  ...     ...     ...    ...   ...    ...   \n",
              "495  1.0  76.0  0.0  27.96454  0.0  1.0    88.0     1.0   68.0   1.0    0.0   \n",
              "496  0.0  76.0  0.0  24.26862  0.0  1.0    96.0     1.0   88.0   3.0    0.0   \n",
              "497  1.0  57.0  0.0  42.13576  0.0  1.0    74.0     1.0  123.0   3.0    0.0   \n",
              "498  0.0  67.0  0.0  27.40905  0.0  1.0    62.0     0.0   59.0   1.0    0.0   \n",
              "499  0.0  98.0  0.0  19.48575  0.0  1.0   100.0     0.0   99.0   3.0    0.0   \n",
              "\n",
              "     mitype  sho  sysbp  \n",
              "0       0.0  0.0  152.0  \n",
              "1       1.0  0.0  120.0  \n",
              "2       1.0  0.0  147.0  \n",
              "3       1.0  0.0  123.0  \n",
              "4       1.0  0.0  135.0  \n",
              "..      ...  ...    ...  \n",
              "495     1.0  0.0  112.0  \n",
              "496     0.0  0.0  208.0  \n",
              "497     0.0  0.0  120.0  \n",
              "498     1.0  0.0  112.0  \n",
              "499     1.0  0.0  160.0  \n",
              "\n",
              "[500 rows x 14 columns]"
            ]
          },
          "execution_count": 5,
          "metadata": {},
          "output_type": "execute_result"
        }
      ],
      "source": [
        "X"
      ]
    },
    {
      "cell_type": "code",
      "execution_count": null,
      "id": "e83489ff",
      "metadata": {
        "id": "e83489ff"
      },
      "outputs": [],
      "source": [
        "rf_estimator = RandomSurvivalForest().fit(X, y)"
      ]
    },
    {
      "cell_type": "code",
      "execution_count": null,
      "id": "00715bc5",
      "metadata": {
        "id": "00715bc5",
        "outputId": "744a81ea-5085-4279-bcd2-b9dd629a2dff"
      },
      "outputs": [
        {
          "data": {
            "text/html": [
              "<div>\n",
              "<style scoped>\n",
              "    .dataframe tbody tr th:only-of-type {\n",
              "        vertical-align: middle;\n",
              "    }\n",
              "\n",
              "    .dataframe tbody tr th {\n",
              "        vertical-align: top;\n",
              "    }\n",
              "\n",
              "    .dataframe thead th {\n",
              "        text-align: right;\n",
              "    }\n",
              "</style>\n",
              "<table border=\"1\" class=\"dataframe\">\n",
              "  <thead>\n",
              "    <tr style=\"text-align: right;\">\n",
              "      <th></th>\n",
              "      <th>afb</th>\n",
              "      <th>age</th>\n",
              "      <th>av3</th>\n",
              "      <th>bmi</th>\n",
              "      <th>chf</th>\n",
              "      <th>cvd</th>\n",
              "      <th>diasbp</th>\n",
              "      <th>gender</th>\n",
              "      <th>hr</th>\n",
              "      <th>los</th>\n",
              "      <th>miord</th>\n",
              "      <th>mitype</th>\n",
              "      <th>sho</th>\n",
              "      <th>sysbp</th>\n",
              "    </tr>\n",
              "  </thead>\n",
              "  <tbody>\n",
              "    <tr>\n",
              "      <th>0</th>\n",
              "      <td>1.0</td>\n",
              "      <td>83.0</td>\n",
              "      <td>0.0</td>\n",
              "      <td>25.54051</td>\n",
              "      <td>0.0</td>\n",
              "      <td>1.0</td>\n",
              "      <td>78.0</td>\n",
              "      <td>0.0</td>\n",
              "      <td>89.0</td>\n",
              "      <td>5.0</td>\n",
              "      <td>1.0</td>\n",
              "      <td>0.0</td>\n",
              "      <td>0.0</td>\n",
              "      <td>152.0</td>\n",
              "    </tr>\n",
              "    <tr>\n",
              "      <th>1</th>\n",
              "      <td>0.0</td>\n",
              "      <td>49.0</td>\n",
              "      <td>0.0</td>\n",
              "      <td>24.02398</td>\n",
              "      <td>0.0</td>\n",
              "      <td>1.0</td>\n",
              "      <td>60.0</td>\n",
              "      <td>0.0</td>\n",
              "      <td>84.0</td>\n",
              "      <td>5.0</td>\n",
              "      <td>0.0</td>\n",
              "      <td>1.0</td>\n",
              "      <td>0.0</td>\n",
              "      <td>120.0</td>\n",
              "    </tr>\n",
              "    <tr>\n",
              "      <th>2</th>\n",
              "      <td>0.0</td>\n",
              "      <td>70.0</td>\n",
              "      <td>0.0</td>\n",
              "      <td>22.14290</td>\n",
              "      <td>0.0</td>\n",
              "      <td>0.0</td>\n",
              "      <td>88.0</td>\n",
              "      <td>1.0</td>\n",
              "      <td>83.0</td>\n",
              "      <td>5.0</td>\n",
              "      <td>0.0</td>\n",
              "      <td>1.0</td>\n",
              "      <td>0.0</td>\n",
              "      <td>147.0</td>\n",
              "    </tr>\n",
              "    <tr>\n",
              "      <th>3</th>\n",
              "      <td>0.0</td>\n",
              "      <td>70.0</td>\n",
              "      <td>0.0</td>\n",
              "      <td>26.63187</td>\n",
              "      <td>1.0</td>\n",
              "      <td>1.0</td>\n",
              "      <td>76.0</td>\n",
              "      <td>0.0</td>\n",
              "      <td>65.0</td>\n",
              "      <td>10.0</td>\n",
              "      <td>0.0</td>\n",
              "      <td>1.0</td>\n",
              "      <td>0.0</td>\n",
              "      <td>123.0</td>\n",
              "    </tr>\n",
              "    <tr>\n",
              "      <th>4</th>\n",
              "      <td>0.0</td>\n",
              "      <td>70.0</td>\n",
              "      <td>0.0</td>\n",
              "      <td>24.41255</td>\n",
              "      <td>0.0</td>\n",
              "      <td>1.0</td>\n",
              "      <td>85.0</td>\n",
              "      <td>0.0</td>\n",
              "      <td>63.0</td>\n",
              "      <td>6.0</td>\n",
              "      <td>0.0</td>\n",
              "      <td>1.0</td>\n",
              "      <td>0.0</td>\n",
              "      <td>135.0</td>\n",
              "    </tr>\n",
              "  </tbody>\n",
              "</table>\n",
              "</div>"
            ],
            "text/plain": [
              "   afb   age  av3       bmi  chf  cvd  diasbp  gender    hr   los  miord  \\\n",
              "0  1.0  83.0  0.0  25.54051  0.0  1.0    78.0     0.0  89.0   5.0    1.0   \n",
              "1  0.0  49.0  0.0  24.02398  0.0  1.0    60.0     0.0  84.0   5.0    0.0   \n",
              "2  0.0  70.0  0.0  22.14290  0.0  0.0    88.0     1.0  83.0   5.0    0.0   \n",
              "3  0.0  70.0  0.0  26.63187  1.0  1.0    76.0     0.0  65.0  10.0    0.0   \n",
              "4  0.0  70.0  0.0  24.41255  0.0  1.0    85.0     0.0  63.0   6.0    0.0   \n",
              "\n",
              "   mitype  sho  sysbp  \n",
              "0     0.0  0.0  152.0  \n",
              "1     1.0  0.0  120.0  \n",
              "2     1.0  0.0  147.0  \n",
              "3     1.0  0.0  123.0  \n",
              "4     1.0  0.0  135.0  "
            ]
          },
          "execution_count": 7,
          "metadata": {},
          "output_type": "execute_result"
        }
      ],
      "source": [
        "X.iloc[:5]"
      ]
    },
    {
      "cell_type": "code",
      "execution_count": null,
      "id": "86b6848d",
      "metadata": {
        "id": "86b6848d"
      },
      "outputs": [],
      "source": [
        "chf_funcs = rf_estimator.predict_cumulative_hazard_function(X.iloc[:5])"
      ]
    },
    {
      "cell_type": "code",
      "execution_count": null,
      "id": "d7132c2d",
      "metadata": {
        "id": "d7132c2d",
        "outputId": "210dbc5b-7b12-4618-c615-5d72f539f546"
      },
      "outputs": [
        {
          "data": {
            "text/plain": [
              "(5,)"
            ]
          },
          "execution_count": 9,
          "metadata": {},
          "output_type": "execute_result"
        }
      ],
      "source": [
        "chf_funcs.shape"
      ]
    },
    {
      "cell_type": "code",
      "execution_count": null,
      "id": "d2042abc",
      "metadata": {
        "id": "d2042abc",
        "outputId": "7ef80ee3-aab5-4d45-d4bb-11231790c2a1"
      },
      "outputs": [
        {
          "data": {
            "image/png": "[encoded data removed]",
            "text/plain": [
              "<Figure size 432x288 with 1 Axes>"
            ]
          },
          "metadata": {
            "needs_background": "light"
          },
          "output_type": "display_data"
        }
      ],
      "source": [
        "surv = rf_estimator.predict_cumulative_hazard_function(X.iloc[:5], return_array=True)\n",
        "\n",
        "for i, s in enumerate(surv):\n",
        "    plt.step(rf_estimator.unique_times_, s, where=\"post\", label=str(i))\n",
        "plt.ylabel(\"Cumulative hazard\")\n",
        "plt.xlabel(\"Time in days\")\n",
        "plt.legend()\n",
        "plt.grid(True)"
      ]
    },
    {
      "cell_type": "code",
      "execution_count": null,
      "id": "85d81b73",
      "metadata": {
        "id": "85d81b73",
        "outputId": "0017daff-872e-4c4a-8402-79c52fa585b8"
      },
      "outputs": [
        {
          "data": {
            "image/png": "[encoded data removed]",
            "text/plain": [
              "<Figure size 432x288 with 1 Axes>"
            ]
          },
          "metadata": {
            "needs_background": "light"
          },
          "output_type": "display_data"
        }
      ],
      "source": [
        "surv = rf_estimator.predict_survival_function(X.iloc[:5], return_array=True)\n",
        "\n",
        "for i, s in enumerate(surv):\n",
        "    plt.step(rf_estimator.unique_times_, s, where=\"post\", label=str(i))\n",
        "plt.ylabel(\"Survival probability\")\n",
        "plt.xlabel(\"Time in days\")\n",
        "plt.legend()\n",
        "plt.grid(True)"
      ]
    },
    {
      "cell_type": "code",
      "execution_count": null,
      "id": "0785885e",
      "metadata": {
        "id": "0785885e",
        "outputId": "64e7e97d-03d9-4abd-d8e5-df5853624b07"
      },
      "outputs": [
        {
          "data": {
            "text/plain": [
              "0.9002248865587034"
            ]
          },
          "execution_count": 12,
          "metadata": {},
          "output_type": "execute_result"
        }
      ],
      "source": [
        "#  concordance index\n",
        "rf_estimator.score(X, y)"
      ]
    },
    {
      "cell_type": "code",
      "execution_count": null,
      "id": "86b05994",
      "metadata": {
        "id": "86b05994"
      },
      "outputs": [],
      "source": [
        "# Tree\n",
        "import matplotlib.pyplot as plt\n",
        "from sksurv.datasets import load_whas500\n",
        "from sksurv.tree import SurvivalTree"
      ]
    },
    {
      "cell_type": "code",
      "execution_count": null,
      "id": "5dba69e8",
      "metadata": {
        "id": "5dba69e8"
      },
      "outputs": [],
      "source": [
        "X, y = load_whas500()\n",
        "X = X.astype(float)"
      ]
    },
    {
      "cell_type": "code",
      "execution_count": null,
      "id": "a5a48119",
      "metadata": {
        "id": "a5a48119",
        "outputId": "6adb1041-7503-4932-9280-73357bafb7fa"
      },
      "outputs": [
        {
          "data": {
            "text/plain": [
              "(500,)"
            ]
          },
          "execution_count": 15,
          "metadata": {},
          "output_type": "execute_result"
        }
      ],
      "source": [
        "y.shape"
      ]
    },
    {
      "cell_type": "code",
      "execution_count": null,
      "id": "6e0085b5",
      "metadata": {
        "id": "6e0085b5"
      },
      "outputs": [],
      "source": [
        "tree_estimator = SurvivalTree().fit(X, y)"
      ]
    },
    {
      "cell_type": "code",
      "execution_count": null,
      "id": "b186263e",
      "metadata": {
        "id": "b186263e"
      },
      "outputs": [],
      "source": [
        "chf_funcs = tree_estimator.predict_cumulative_hazard_function(X.iloc[:5])"
      ]
    },
    {
      "cell_type": "code",
      "execution_count": null,
      "id": "ce1b1204",
      "metadata": {
        "id": "ce1b1204",
        "outputId": "98f74270-ce8e-4a0a-e03a-559bb86b2bf5"
      },
      "outputs": [
        {
          "data": {
            "image/png": "[encoded data removed]",
            "text/plain": [
              "<Figure size 432x288 with 1 Axes>"
            ]
          },
          "metadata": {
            "needs_background": "light"
          },
          "output_type": "display_data"
        }
      ],
      "source": [
        "surv = tree_estimator.predict_cumulative_hazard_function(X.iloc[:5], return_array=True)\n",
        "\n",
        "for i, s in enumerate(surv):\n",
        "    plt.step(tree_estimator.unique_times_, s, where=\"post\", label=str(i))\n",
        "plt.ylabel(\"Cumulative hazard\")\n",
        "plt.xlabel(\"Time in days\")\n",
        "plt.legend()\n",
        "plt.grid(True)"
      ]
    },
    {
      "cell_type": "code",
      "execution_count": null,
      "id": "05f14b48",
      "metadata": {
        "id": "05f14b48",
        "outputId": "cca25d7d-cd8d-4260-9fd2-1b1021d2098b"
      },
      "outputs": [
        {
          "data": {
            "image/png": "[encoded data removed]",
            "text/plain": [
              "<Figure size 432x288 with 1 Axes>"
            ]
          },
          "metadata": {
            "needs_background": "light"
          },
          "output_type": "display_data"
        }
      ],
      "source": [
        "surv = tree_estimator.predict_survival_function(X.iloc[:5], return_array=True)\n",
        "\n",
        "for i, s in enumerate(surv):\n",
        "    plt.step(tree_estimator.unique_times_, s, where=\"post\", label=str(i))\n",
        "plt.ylabel(\"Survival probability\")\n",
        "plt.xlabel(\"Time in days\")\n",
        "plt.legend()\n",
        "plt.grid(True)"
      ]
    },
    {
      "cell_type": "code",
      "execution_count": null,
      "id": "66641ab3",
      "metadata": {
        "id": "66641ab3",
        "outputId": "797a127e-ef10-49c0-be59-c067bfe89576"
      },
      "outputs": [
        {
          "data": {
            "text/plain": [
              "0.9056940212111938"
            ]
          },
          "execution_count": 20,
          "metadata": {},
          "output_type": "execute_result"
        }
      ],
      "source": [
        "#  concordance index\n",
        "tree_estimator.score(X, y)"
      ]
    },
    {
      "cell_type": "code",
      "execution_count": null,
      "id": "a54ea7b2",
      "metadata": {
        "id": "a54ea7b2"
      },
      "outputs": [],
      "source": [
        "import matplotlib.pyplot as plt\n",
        "from sksurv.datasets import load_whas500\n",
        "from sksurv.ensemble import ExtraSurvivalTrees"
      ]
    },
    {
      "cell_type": "code",
      "execution_count": null,
      "id": "ff522a20",
      "metadata": {
        "id": "ff522a20"
      },
      "outputs": [],
      "source": [
        "X, y = load_whas500()\n",
        "X = X.astype(float)"
      ]
    },
    {
      "cell_type": "code",
      "execution_count": null,
      "id": "8dd77efd",
      "metadata": {
        "id": "8dd77efd"
      },
      "outputs": [],
      "source": [
        "et_estimator = ExtraSurvivalTrees().fit(X, y)"
      ]
    },
    {
      "cell_type": "code",
      "execution_count": null,
      "id": "a976f70e",
      "metadata": {
        "id": "a976f70e"
      },
      "outputs": [],
      "source": [
        "surv_funcs = et_estimator.predict_cumulative_hazard_function(X.iloc[:5])"
      ]
    },
    {
      "cell_type": "code",
      "execution_count": null,
      "id": "008df2d3",
      "metadata": {
        "id": "008df2d3",
        "outputId": "f9bfaf2a-0ae4-4dfa-a27a-6e2b08ac4601"
      },
      "outputs": [
        {
          "data": {
            "image/png": "[encoded data removed]",
            "text/plain": [
              "<Figure size 432x288 with 1 Axes>"
            ]
          },
          "metadata": {
            "needs_background": "light"
          },
          "output_type": "display_data"
        }
      ],
      "source": [
        "surv = et_estimator.predict_cumulative_hazard_function(X.iloc[:5], return_array=True)\n",
        "\n",
        "for i, s in enumerate(surv):\n",
        "    plt.step(et_estimator.unique_times_, s, where=\"post\", label=str(i))\n",
        "plt.ylabel(\"Cumulative hazard\")\n",
        "plt.xlabel(\"Time in days\")\n",
        "plt.legend()\n",
        "plt.grid(True)"
      ]
    },
    {
      "cell_type": "code",
      "execution_count": null,
      "id": "1687e44f",
      "metadata": {
        "id": "1687e44f",
        "outputId": "e2a9010d-8a8a-449b-c2b0-50d7b9f5dc4f"
      },
      "outputs": [
        {
          "data": {
            "image/png": "[encoded data removed]",
            "text/plain": [
              "<Figure size 432x288 with 1 Axes>"
            ]
          },
          "metadata": {
            "needs_background": "light"
          },
          "output_type": "display_data"
        }
      ],
      "source": [
        "surv = et_estimator.predict_survival_function(X.iloc[:5], return_array=True)\n",
        "\n",
        "for i, s in enumerate(surv):\n",
        "    plt.step(et_estimator.unique_times_, s, where=\"post\", label=str(i))\n",
        "plt.ylabel(\"Survival probability\")\n",
        "plt.xlabel(\"Time in days\")\n",
        "plt.legend()\n",
        "plt.grid(True)"
      ]
    },
    {
      "cell_type": "code",
      "execution_count": null,
      "id": "115e890a",
      "metadata": {
        "id": "115e890a",
        "outputId": "e9e81bb7-2654-4832-ccdd-6ce7d5540df1"
      },
      "outputs": [
        {
          "data": {
            "text/plain": [
              "0.8349678638438303"
            ]
          },
          "execution_count": 27,
          "metadata": {},
          "output_type": "execute_result"
        }
      ],
      "source": [
        "#  concordance index\n",
        "et_estimator.score(X, y)"
      ]
    },
    {
      "cell_type": "code",
      "execution_count": null,
      "id": "c97bb684",
      "metadata": {
        "id": "c97bb684"
      },
      "outputs": [],
      "source": [
        "import matplotlib.pyplot as plt\n",
        "from sksurv.datasets import load_whas500\n",
        "from sksurv.ensemble import GradientBoostingSurvivalAnalysis"
      ]
    },
    {
      "cell_type": "code",
      "execution_count": null,
      "id": "4dc673c6",
      "metadata": {
        "id": "4dc673c6"
      },
      "outputs": [],
      "source": [
        "X, y = load_whas500()\n",
        "X = X.astype(float)"
      ]
    },
    {
      "cell_type": "code",
      "execution_count": null,
      "id": "4e2f831d",
      "metadata": {
        "id": "4e2f831d"
      },
      "outputs": [],
      "source": [
        "gb_estimator = GradientBoostingSurvivalAnalysis(loss=\"coxph\").fit(X, y)"
      ]
    },
    {
      "cell_type": "code",
      "execution_count": null,
      "id": "bc1414be",
      "metadata": {
        "id": "bc1414be"
      },
      "outputs": [],
      "source": [
        "chf_funcs = gb_estimator.predict_cumulative_hazard_function(X.iloc[:5])"
      ]
    },
    {
      "cell_type": "code",
      "execution_count": null,
      "id": "00fbb060",
      "metadata": {
        "id": "00fbb060",
        "outputId": "3956a512-86ce-4859-dbc9-29e9df85ae66"
      },
      "outputs": [
        {
          "data": {
            "image/png": "[encoded data removed]",
            "text/plain": [
              "<Figure size 432x288 with 1 Axes>"
            ]
          },
          "metadata": {
            "needs_background": "light"
          },
          "output_type": "display_data"
        }
      ],
      "source": [
        "surv = gb_estimator.predict_cumulative_hazard_function(X.iloc[:5], return_array=True)\n",
        "\n",
        "for i, s in enumerate(surv):\n",
        "    plt.step(gb_estimator.unique_times_, s, where=\"post\", label=str(i))\n",
        "plt.ylabel(\"Cumulative hazard\")\n",
        "plt.xlabel(\"Time in days\")\n",
        "plt.legend()\n",
        "plt.grid(True)"
      ]
    },
    {
      "cell_type": "code",
      "execution_count": null,
      "id": "790a206f",
      "metadata": {
        "id": "790a206f",
        "outputId": "df515a90-d4d5-4265-d942-2a38ccbbb2de"
      },
      "outputs": [
        {
          "data": {
            "image/png": "[encoded data removed]",
            "text/plain": [
              "<Figure size 432x288 with 1 Axes>"
            ]
          },
          "metadata": {
            "needs_background": "light"
          },
          "output_type": "display_data"
        }
      ],
      "source": [
        "surv = gb_estimator.predict_survival_function(X.iloc[:5], return_array=True)\n",
        "\n",
        "for i, s in enumerate(surv):\n",
        "    plt.step(gb_estimator.unique_times_, s, where=\"post\", label=str(i))\n",
        "plt.ylabel(\"Survival probability\")\n",
        "plt.xlabel(\"Time in days\")\n",
        "plt.legend()\n",
        "plt.grid(True)"
      ]
    },
    {
      "cell_type": "code",
      "execution_count": null,
      "id": "0c23a749",
      "metadata": {
        "id": "0c23a749",
        "outputId": "52dad350-4f62-400e-9d9c-11067ef5b208"
      },
      "outputs": [
        {
          "data": {
            "text/plain": [
              "0.8642563440631279"
            ]
          },
          "execution_count": 34,
          "metadata": {},
          "output_type": "execute_result"
        }
      ],
      "source": [
        "#  concordance index\n",
        "gb_estimator.score(X, y)"
      ]
    }
  ],
  "metadata": {
    "kernelspec": {
      "display_name": "Python 3 (ipykernel)",
      "language": "python",
      "name": "python3"
    },
    "language_info": {
      "codemirror_mode": {
        "name": "ipython",
        "version": 3
      },
      "file_extension": ".py",
      "mimetype": "text/x-python",
      "name": "python",
      "nbconvert_exporter": "python",
      "pygments_lexer": "ipython3",
      "version": "3.10.0"
    },
    "colab": {
      "provenance": [],
      "include_colab_link": true
    }
  },
  "nbformat": 4,
  "nbformat_minor": 5
}