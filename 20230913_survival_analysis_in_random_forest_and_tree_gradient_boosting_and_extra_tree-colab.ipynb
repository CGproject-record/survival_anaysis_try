{
  "nbformat": 4,
  "nbformat_minor": 0,
  "metadata": {
    "colab": {
      "provenance": [],
      "authorship_tag": "ABX9TyOJXni7thmg5fvg5X+sPtIq",
      "include_colab_link": true
    },
    "kernelspec": {
      "name": "python3",
      "display_name": "Python 3"
    },
    "language_info": {
      "name": "python"
    }
  },
  "cells": [
    {
      "cell_type": "markdown",
      "metadata": {
        "id": "view-in-github",
        "colab_type": "text"
      },
      "source": [
        "<a href=\"https://colab.research.google.com/github/CGproject-record/survival_anaysis_try/blob/main/20230913_survival_analysis_in_random_forest_and_tree_gradient_boosting_and_extra_tree-colab.ipynb\" target=\"_parent\"><img src=\"https://colab.research.google.com/assets/colab-badge.svg\" alt=\"Open In Colab\"/></a>"
      ]
    },
    {
      "cell_type": "code",
      "execution_count": 1,
      "metadata": {
        "colab": {
          "base_uri": "https://localhost:8080/"
        },
        "id": "ZUlnooXhjfi5",
        "outputId": "7b9a11f1-06d9-48ea-971f-8bb4ca974f30"
      },
      "outputs": [
        {
          "output_type": "stream",
          "name": "stdout",
          "text": [
            "Requirement already satisfied: scikit-survival in /usr/local/lib/python3.10/dist-packages (0.21.0)\n",
            "Requirement already satisfied: ecos in /usr/local/lib/python3.10/dist-packages (from scikit-survival) (2.0.12)\n",
            "Requirement already satisfied: joblib in /usr/local/lib/python3.10/dist-packages (from scikit-survival) (1.3.2)\n",
            "Requirement already satisfied: numexpr in /usr/local/lib/python3.10/dist-packages (from scikit-survival) (2.8.5)\n",
            "Requirement already satisfied: numpy in /usr/local/lib/python3.10/dist-packages (from scikit-survival) (1.23.5)\n",
            "Requirement already satisfied: osqp!=0.6.0,!=0.6.1 in /usr/local/lib/python3.10/dist-packages (from scikit-survival) (0.6.2.post8)\n",
            "Requirement already satisfied: pandas>=1.0.5 in /usr/local/lib/python3.10/dist-packages (from scikit-survival) (1.5.3)\n",
            "Requirement already satisfied: scipy>=1.3.2 in /usr/local/lib/python3.10/dist-packages (from scikit-survival) (1.11.2)\n",
            "Requirement already satisfied: scikit-learn<1.3,>=1.2.0 in /usr/local/lib/python3.10/dist-packages (from scikit-survival) (1.2.2)\n",
            "Requirement already satisfied: qdldl in /usr/local/lib/python3.10/dist-packages (from osqp!=0.6.0,!=0.6.1->scikit-survival) (0.1.7.post0)\n",
            "Requirement already satisfied: python-dateutil>=2.8.1 in /usr/local/lib/python3.10/dist-packages (from pandas>=1.0.5->scikit-survival) (2.8.2)\n",
            "Requirement already satisfied: pytz>=2020.1 in /usr/local/lib/python3.10/dist-packages (from pandas>=1.0.5->scikit-survival) (2023.3.post1)\n",
            "Requirement already satisfied: threadpoolctl>=2.0.0 in /usr/local/lib/python3.10/dist-packages (from scikit-learn<1.3,>=1.2.0->scikit-survival) (3.2.0)\n",
            "Requirement already satisfied: six>=1.5 in /usr/local/lib/python3.10/dist-packages (from python-dateutil>=2.8.1->pandas>=1.0.5->scikit-survival) (1.16.0)\n"
          ]
        }
      ],
      "source": [
        "!pip install scikit-survival"
      ]
    },
    {
      "cell_type": "code",
      "source": [
        "# Random forest"
      ],
      "metadata": {
        "id": "4zXyqV3Jjnxx"
      },
      "execution_count": 2,
      "outputs": []
    },
    {
      "cell_type": "code",
      "source": [
        "import matplotlib.pyplot as plt\n",
        "from sksurv.datasets import load_whas500\n",
        "from sksurv.ensemble import RandomSurvivalForest"
      ],
      "metadata": {
        "id": "83HwbsaXjn1Q"
      },
      "execution_count": 3,
      "outputs": []
    },
    {
      "cell_type": "code",
      "source": [
        "X, y = load_whas500()\n",
        "X = X.astype(float)"
      ],
      "metadata": {
        "id": "eFoh8I6-jn2t"
      },
      "execution_count": 4,
      "outputs": []
    },
    {
      "cell_type": "code",
      "source": [
        "X"
      ],
      "metadata": {
        "colab": {
          "base_uri": "https://localhost:8080/",
          "height": 423
        },
        "id": "E-BuNhrPjwI0",
        "outputId": "3493b921-9fab-42c1-e799-d1b5cdf0e8b3"
      },
      "execution_count": 5,
      "outputs": [
        {
          "output_type": "execute_result",
          "data": {
            "text/plain": [
              "     afb   age  av3       bmi  chf  cvd  diasbp  gender     hr   los  miord  \\\n",
              "0    1.0  83.0  0.0  25.54051  0.0  1.0    78.0     0.0   89.0   5.0    1.0   \n",
              "1    0.0  49.0  0.0  24.02398  0.0  1.0    60.0     0.0   84.0   5.0    0.0   \n",
              "2    0.0  70.0  0.0  22.14290  0.0  0.0    88.0     1.0   83.0   5.0    0.0   \n",
              "3    0.0  70.0  0.0  26.63187  1.0  1.0    76.0     0.0   65.0  10.0    0.0   \n",
              "4    0.0  70.0  0.0  24.41255  0.0  1.0    85.0     0.0   63.0   6.0    0.0   \n",
              "..   ...   ...  ...       ...  ...  ...     ...     ...    ...   ...    ...   \n",
              "495  1.0  76.0  0.0  27.96454  0.0  1.0    88.0     1.0   68.0   1.0    0.0   \n",
              "496  0.0  76.0  0.0  24.26862  0.0  1.0    96.0     1.0   88.0   3.0    0.0   \n",
              "497  1.0  57.0  0.0  42.13576  0.0  1.0    74.0     1.0  123.0   3.0    0.0   \n",
              "498  0.0  67.0  0.0  27.40905  0.0  1.0    62.0     0.0   59.0   1.0    0.0   \n",
              "499  0.0  98.0  0.0  19.48575  0.0  1.0   100.0     0.0   99.0   3.0    0.0   \n",
              "\n",
              "     mitype  sho  sysbp  \n",
              "0       0.0  0.0  152.0  \n",
              "1       1.0  0.0  120.0  \n",
              "2       1.0  0.0  147.0  \n",
              "3       1.0  0.0  123.0  \n",
              "4       1.0  0.0  135.0  \n",
              "..      ...  ...    ...  \n",
              "495     1.0  0.0  112.0  \n",
              "496     0.0  0.0  208.0  \n",
              "497     0.0  0.0  120.0  \n",
              "498     1.0  0.0  112.0  \n",
              "499     1.0  0.0  160.0  \n",
              "\n",
              "[500 rows x 14 columns]"
            ],
            "text/html": [
              "\n",
              "  <div id=\"df-b297f4bb-d68a-4fe6-9e9c-17e383a63148\" class=\"colab-df-container\">\n",
              "    <div>\n",
              "<style scoped>\n",
              "    .dataframe tbody tr th:only-of-type {\n",
              "        vertical-align: middle;\n",
              "    }\n",
              "\n",
              "    .dataframe tbody tr th {\n",
              "        vertical-align: top;\n",
              "    }\n",
              "\n",
              "    .dataframe thead th {\n",
              "        text-align: right;\n",
              "    }\n",
              "</style>\n",
              "<table border=\"1\" class=\"dataframe\">\n",
              "  <thead>\n",
              "    <tr style=\"text-align: right;\">\n",
              "      <th></th>\n",
              "      <th>afb</th>\n",
              "      <th>age</th>\n",
              "      <th>av3</th>\n",
              "      <th>bmi</th>\n",
              "      <th>chf</th>\n",
              "      <th>cvd</th>\n",
              "      <th>diasbp</th>\n",
              "      <th>gender</th>\n",
              "      <th>hr</th>\n",
              "      <th>los</th>\n",
              "      <th>miord</th>\n",
              "      <th>mitype</th>\n",
              "      <th>sho</th>\n",
              "      <th>sysbp</th>\n",
              "    </tr>\n",
              "  </thead>\n",
              "  <tbody>\n",
              "    <tr>\n",
              "      <th>0</th>\n",
              "      <td>1.0</td>\n",
              "      <td>83.0</td>\n",
              "      <td>0.0</td>\n",
              "      <td>25.54051</td>\n",
              "      <td>0.0</td>\n",
              "      <td>1.0</td>\n",
              "      <td>78.0</td>\n",
              "      <td>0.0</td>\n",
              "      <td>89.0</td>\n",
              "      <td>5.0</td>\n",
              "      <td>1.0</td>\n",
              "      <td>0.0</td>\n",
              "      <td>0.0</td>\n",
              "      <td>152.0</td>\n",
              "    </tr>\n",
              "    <tr>\n",
              "      <th>1</th>\n",
              "      <td>0.0</td>\n",
              "      <td>49.0</td>\n",
              "      <td>0.0</td>\n",
              "      <td>24.02398</td>\n",
              "      <td>0.0</td>\n",
              "      <td>1.0</td>\n",
              "      <td>60.0</td>\n",
              "      <td>0.0</td>\n",
              "      <td>84.0</td>\n",
              "      <td>5.0</td>\n",
              "      <td>0.0</td>\n",
              "      <td>1.0</td>\n",
              "      <td>0.0</td>\n",
              "      <td>120.0</td>\n",
              "    </tr>\n",
              "    <tr>\n",
              "      <th>2</th>\n",
              "      <td>0.0</td>\n",
              "      <td>70.0</td>\n",
              "      <td>0.0</td>\n",
              "      <td>22.14290</td>\n",
              "      <td>0.0</td>\n",
              "      <td>0.0</td>\n",
              "      <td>88.0</td>\n",
              "      <td>1.0</td>\n",
              "      <td>83.0</td>\n",
              "      <td>5.0</td>\n",
              "      <td>0.0</td>\n",
              "      <td>1.0</td>\n",
              "      <td>0.0</td>\n",
              "      <td>147.0</td>\n",
              "    </tr>\n",
              "    <tr>\n",
              "      <th>3</th>\n",
              "      <td>0.0</td>\n",
              "      <td>70.0</td>\n",
              "      <td>0.0</td>\n",
              "      <td>26.63187</td>\n",
              "      <td>1.0</td>\n",
              "      <td>1.0</td>\n",
              "      <td>76.0</td>\n",
              "      <td>0.0</td>\n",
              "      <td>65.0</td>\n",
              "      <td>10.0</td>\n",
              "      <td>0.0</td>\n",
              "      <td>1.0</td>\n",
              "      <td>0.0</td>\n",
              "      <td>123.0</td>\n",
              "    </tr>\n",
              "    <tr>\n",
              "      <th>4</th>\n",
              "      <td>0.0</td>\n",
              "      <td>70.0</td>\n",
              "      <td>0.0</td>\n",
              "      <td>24.41255</td>\n",
              "      <td>0.0</td>\n",
              "      <td>1.0</td>\n",
              "      <td>85.0</td>\n",
              "      <td>0.0</td>\n",
              "      <td>63.0</td>\n",
              "      <td>6.0</td>\n",
              "      <td>0.0</td>\n",
              "      <td>1.0</td>\n",
              "      <td>0.0</td>\n",
              "      <td>135.0</td>\n",
              "    </tr>\n",
              "    <tr>\n",
              "      <th>...</th>\n",
              "      <td>...</td>\n",
              "      <td>...</td>\n",
              "      <td>...</td>\n",
              "      <td>...</td>\n",
              "      <td>...</td>\n",
              "      <td>...</td>\n",
              "      <td>...</td>\n",
              "      <td>...</td>\n",
              "      <td>...</td>\n",
              "      <td>...</td>\n",
              "      <td>...</td>\n",
              "      <td>...</td>\n",
              "      <td>...</td>\n",
              "      <td>...</td>\n",
              "    </tr>\n",
              "    <tr>\n",
              "      <th>495</th>\n",
              "      <td>1.0</td>\n",
              "      <td>76.0</td>\n",
              "      <td>0.0</td>\n",
              "      <td>27.96454</td>\n",
              "      <td>0.0</td>\n",
              "      <td>1.0</td>\n",
              "      <td>88.0</td>\n",
              "      <td>1.0</td>\n",
              "      <td>68.0</td>\n",
              "      <td>1.0</td>\n",
              "      <td>0.0</td>\n",
              "      <td>1.0</td>\n",
              "      <td>0.0</td>\n",
              "      <td>112.0</td>\n",
              "    </tr>\n",
              "    <tr>\n",
              "      <th>496</th>\n",
              "      <td>0.0</td>\n",
              "      <td>76.0</td>\n",
              "      <td>0.0</td>\n",
              "      <td>24.26862</td>\n",
              "      <td>0.0</td>\n",
              "      <td>1.0</td>\n",
              "      <td>96.0</td>\n",
              "      <td>1.0</td>\n",
              "      <td>88.0</td>\n",
              "      <td>3.0</td>\n",
              "      <td>0.0</td>\n",
              "      <td>0.0</td>\n",
              "      <td>0.0</td>\n",
              "      <td>208.0</td>\n",
              "    </tr>\n",
              "    <tr>\n",
              "      <th>497</th>\n",
              "      <td>1.0</td>\n",
              "      <td>57.0</td>\n",
              "      <td>0.0</td>\n",
              "      <td>42.13576</td>\n",
              "      <td>0.0</td>\n",
              "      <td>1.0</td>\n",
              "      <td>74.0</td>\n",
              "      <td>1.0</td>\n",
              "      <td>123.0</td>\n",
              "      <td>3.0</td>\n",
              "      <td>0.0</td>\n",
              "      <td>0.0</td>\n",
              "      <td>0.0</td>\n",
              "      <td>120.0</td>\n",
              "    </tr>\n",
              "    <tr>\n",
              "      <th>498</th>\n",
              "      <td>0.0</td>\n",
              "      <td>67.0</td>\n",
              "      <td>0.0</td>\n",
              "      <td>27.40905</td>\n",
              "      <td>0.0</td>\n",
              "      <td>1.0</td>\n",
              "      <td>62.0</td>\n",
              "      <td>0.0</td>\n",
              "      <td>59.0</td>\n",
              "      <td>1.0</td>\n",
              "      <td>0.0</td>\n",
              "      <td>1.0</td>\n",
              "      <td>0.0</td>\n",
              "      <td>112.0</td>\n",
              "    </tr>\n",
              "    <tr>\n",
              "      <th>499</th>\n",
              "      <td>0.0</td>\n",
              "      <td>98.0</td>\n",
              "      <td>0.0</td>\n",
              "      <td>19.48575</td>\n",
              "      <td>0.0</td>\n",
              "      <td>1.0</td>\n",
              "      <td>100.0</td>\n",
              "      <td>0.0</td>\n",
              "      <td>99.0</td>\n",
              "      <td>3.0</td>\n",
              "      <td>0.0</td>\n",
              "      <td>1.0</td>\n",
              "      <td>0.0</td>\n",
              "      <td>160.0</td>\n",
              "    </tr>\n",
              "  </tbody>\n",
              "</table>\n",
              "<p>500 rows × 14 columns</p>\n",
              "</div>\n",
              "    <div class=\"colab-df-buttons\">\n",
              "\n",
              "  <div class=\"colab-df-container\">\n",
              "    <button class=\"colab-df-convert\" onclick=\"convertToInteractive('df-b297f4bb-d68a-4fe6-9e9c-17e383a63148')\"\n",
              "            title=\"Convert this dataframe to an interactive table.\"\n",
              "            style=\"display:none;\">\n",
              "\n",
              "  <svg xmlns=\"http://www.w3.org/2000/svg\" height=\"24px\" viewBox=\"0 -960 960 960\">\n",
              "    <path d=\"M120-120v-720h720v720H120Zm60-500h600v-160H180v160Zm220 220h160v-160H400v160Zm0 220h160v-160H400v160ZM180-400h160v-160H180v160Zm440 0h160v-160H620v160ZM180-180h160v-160H180v160Zm440 0h160v-160H620v160Z\"/>\n",
              "  </svg>\n",
              "    </button>\n",
              "\n",
              "  <style>\n",
              "    .colab-df-container {\n",
              "      display:flex;\n",
              "      gap: 12px;\n",
              "    }\n",
              "\n",
              "    .colab-df-convert {\n",
              "      background-color: #E8F0FE;\n",
              "      border: none;\n",
              "      border-radius: 50%;\n",
              "      cursor: pointer;\n",
              "      display: none;\n",
              "      fill: #1967D2;\n",
              "      height: 32px;\n",
              "      padding: 0 0 0 0;\n",
              "      width: 32px;\n",
              "    }\n",
              "\n",
              "    .colab-df-convert:hover {\n",
              "      background-color: #E2EBFA;\n",
              "      box-shadow: 0px 1px 2px rgba(60, 64, 67, 0.3), 0px 1px 3px 1px rgba(60, 64, 67, 0.15);\n",
              "      fill: #174EA6;\n",
              "    }\n",
              "\n",
              "    .colab-df-buttons div {\n",
              "      margin-bottom: 4px;\n",
              "    }\n",
              "\n",
              "    [theme=dark] .colab-df-convert {\n",
              "      background-color: #3B4455;\n",
              "      fill: #D2E3FC;\n",
              "    }\n",
              "\n",
              "    [theme=dark] .colab-df-convert:hover {\n",
              "      background-color: #434B5C;\n",
              "      box-shadow: 0px 1px 3px 1px rgba(0, 0, 0, 0.15);\n",
              "      filter: drop-shadow(0px 1px 2px rgba(0, 0, 0, 0.3));\n",
              "      fill: #FFFFFF;\n",
              "    }\n",
              "  </style>\n",
              "\n",
              "    <script>\n",
              "      const buttonEl =\n",
              "        document.querySelector('#df-b297f4bb-d68a-4fe6-9e9c-17e383a63148 button.colab-df-convert');\n",
              "      buttonEl.style.display =\n",
              "        google.colab.kernel.accessAllowed ? 'block' : 'none';\n",
              "\n",
              "      async function convertToInteractive(key) {\n",
              "        const element = document.querySelector('#df-b297f4bb-d68a-4fe6-9e9c-17e383a63148');\n",
              "        const dataTable =\n",
              "          await google.colab.kernel.invokeFunction('convertToInteractive',\n",
              "                                                    [key], {});\n",
              "        if (!dataTable) return;\n",
              "\n",
              "        const docLinkHtml = 'Like what you see? Visit the ' +\n",
              "          '<a target=\"_blank\" href=https://colab.research.google.com/notebooks/data_table.ipynb>data table notebook</a>'\n",
              "          + ' to learn more about interactive tables.';\n",
              "        element.innerHTML = '';\n",
              "        dataTable['output_type'] = 'display_data';\n",
              "        await google.colab.output.renderOutput(dataTable, element);\n",
              "        const docLink = document.createElement('div');\n",
              "        docLink.innerHTML = docLinkHtml;\n",
              "        element.appendChild(docLink);\n",
              "      }\n",
              "    </script>\n",
              "  </div>\n",
              "\n",
              "\n",
              "<div id=\"df-b86d692e-0307-4537-83cc-6777847dd73b\">\n",
              "  <button class=\"colab-df-quickchart\" onclick=\"quickchart('df-b86d692e-0307-4537-83cc-6777847dd73b')\"\n",
              "            title=\"Suggest charts.\"\n",
              "            style=\"display:none;\">\n",
              "\n",
              "<svg xmlns=\"http://www.w3.org/2000/svg\" height=\"24px\"viewBox=\"0 0 24 24\"\n",
              "     width=\"24px\">\n",
              "    <g>\n",
              "        <path d=\"M19 3H5c-1.1 0-2 .9-2 2v14c0 1.1.9 2 2 2h14c1.1 0 2-.9 2-2V5c0-1.1-.9-2-2-2zM9 17H7v-7h2v7zm4 0h-2V7h2v10zm4 0h-2v-4h2v4z\"/>\n",
              "    </g>\n",
              "</svg>\n",
              "  </button>\n",
              "\n",
              "<style>\n",
              "  .colab-df-quickchart {\n",
              "      --bg-color: #E8F0FE;\n",
              "      --fill-color: #1967D2;\n",
              "      --hover-bg-color: #E2EBFA;\n",
              "      --hover-fill-color: #174EA6;\n",
              "      --disabled-fill-color: #AAA;\n",
              "      --disabled-bg-color: #DDD;\n",
              "  }\n",
              "\n",
              "  [theme=dark] .colab-df-quickchart {\n",
              "      --bg-color: #3B4455;\n",
              "      --fill-color: #D2E3FC;\n",
              "      --hover-bg-color: #434B5C;\n",
              "      --hover-fill-color: #FFFFFF;\n",
              "      --disabled-bg-color: #3B4455;\n",
              "      --disabled-fill-color: #666;\n",
              "  }\n",
              "\n",
              "  .colab-df-quickchart {\n",
              "    background-color: var(--bg-color);\n",
              "    border: none;\n",
              "    border-radius: 50%;\n",
              "    cursor: pointer;\n",
              "    display: none;\n",
              "    fill: var(--fill-color);\n",
              "    height: 32px;\n",
              "    padding: 0;\n",
              "    width: 32px;\n",
              "  }\n",
              "\n",
              "  .colab-df-quickchart:hover {\n",
              "    background-color: var(--hover-bg-color);\n",
              "    box-shadow: 0 1px 2px rgba(60, 64, 67, 0.3), 0 1px 3px 1px rgba(60, 64, 67, 0.15);\n",
              "    fill: var(--button-hover-fill-color);\n",
              "  }\n",
              "\n",
              "  .colab-df-quickchart-complete:disabled,\n",
              "  .colab-df-quickchart-complete:disabled:hover {\n",
              "    background-color: var(--disabled-bg-color);\n",
              "    fill: var(--disabled-fill-color);\n",
              "    box-shadow: none;\n",
              "  }\n",
              "\n",
              "  .colab-df-spinner {\n",
              "    border: 2px solid var(--fill-color);\n",
              "    border-color: transparent;\n",
              "    border-bottom-color: var(--fill-color);\n",
              "    animation:\n",
              "      spin 1s steps(1) infinite;\n",
              "  }\n",
              "\n",
              "  @keyframes spin {\n",
              "    0% {\n",
              "      border-color: transparent;\n",
              "      border-bottom-color: var(--fill-color);\n",
              "      border-left-color: var(--fill-color);\n",
              "    }\n",
              "    20% {\n",
              "      border-color: transparent;\n",
              "      border-left-color: var(--fill-color);\n",
              "      border-top-color: var(--fill-color);\n",
              "    }\n",
              "    30% {\n",
              "      border-color: transparent;\n",
              "      border-left-color: var(--fill-color);\n",
              "      border-top-color: var(--fill-color);\n",
              "      border-right-color: var(--fill-color);\n",
              "    }\n",
              "    40% {\n",
              "      border-color: transparent;\n",
              "      border-right-color: var(--fill-color);\n",
              "      border-top-color: var(--fill-color);\n",
              "    }\n",
              "    60% {\n",
              "      border-color: transparent;\n",
              "      border-right-color: var(--fill-color);\n",
              "    }\n",
              "    80% {\n",
              "      border-color: transparent;\n",
              "      border-right-color: var(--fill-color);\n",
              "      border-bottom-color: var(--fill-color);\n",
              "    }\n",
              "    90% {\n",
              "      border-color: transparent;\n",
              "      border-bottom-color: var(--fill-color);\n",
              "    }\n",
              "  }\n",
              "</style>\n",
              "\n",
              "  <script>\n",
              "    async function quickchart(key) {\n",
              "      const quickchartButtonEl =\n",
              "        document.querySelector('#' + key + ' button');\n",
              "      quickchartButtonEl.disabled = true;  // To prevent multiple clicks.\n",
              "      quickchartButtonEl.classList.add('colab-df-spinner');\n",
              "      try {\n",
              "        const charts = await google.colab.kernel.invokeFunction(\n",
              "            'suggestCharts', [key], {});\n",
              "      } catch (error) {\n",
              "        console.error('Error during call to suggestCharts:', error);\n",
              "      }\n",
              "      quickchartButtonEl.classList.remove('colab-df-spinner');\n",
              "      quickchartButtonEl.classList.add('colab-df-quickchart-complete');\n",
              "    }\n",
              "    (() => {\n",
              "      let quickchartButtonEl =\n",
              "        document.querySelector('#df-b86d692e-0307-4537-83cc-6777847dd73b button');\n",
              "      quickchartButtonEl.style.display =\n",
              "        google.colab.kernel.accessAllowed ? 'block' : 'none';\n",
              "    })();\n",
              "  </script>\n",
              "</div>\n",
              "    </div>\n",
              "  </div>\n"
            ]
          },
          "metadata": {},
          "execution_count": 5
        }
      ]
    },
    {
      "cell_type": "code",
      "source": [
        "y"
      ],
      "metadata": {
        "colab": {
          "base_uri": "https://localhost:8080/"
        },
        "id": "l7hjqvVFjwMR",
        "outputId": "1f0263c7-c2b9-4620-cdc2-9d41de5dd760"
      },
      "execution_count": 6,
      "outputs": [
        {
          "output_type": "execute_result",
          "data": {
            "text/plain": [
              "array([(False, 2.178e+03), (False, 2.172e+03), (False, 2.190e+03),\n",
              "       ( True, 2.970e+02), (False, 2.131e+03), ( True, 1.000e+00),\n",
              "       (False, 2.122e+03), ( True, 1.496e+03), ( True, 9.200e+02),\n",
              "       (False, 2.175e+03), (False, 2.173e+03), ( True, 1.671e+03),\n",
              "       (False, 2.192e+03), ( True, 8.650e+02), (False, 2.166e+03),\n",
              "       (False, 2.168e+03), ( True, 9.050e+02), ( True, 2.353e+03),\n",
              "       (False, 2.146e+03), ( True, 6.100e+01), ( True, 2.358e+03),\n",
              "       (False, 2.114e+03), (False, 2.132e+03), (False, 2.139e+03),\n",
              "       (False, 2.048e+03), (False, 2.152e+03), ( True, 6.000e+00),\n",
              "       (False, 2.156e+03), ( True, 1.180e+02), (False, 2.064e+03),\n",
              "       ( True, 8.490e+02), ( True, 7.140e+02), (False, 2.057e+03),\n",
              "       ( True, 2.000e+00), ( True, 7.000e+00), (False, 2.151e+03),\n",
              "       ( True, 6.000e+00), ( True, 4.220e+02), ( True, 3.540e+02),\n",
              "       (False, 2.065e+03), (False, 2.048e+03), ( True, 1.065e+03),\n",
              "       ( True, 5.350e+02), (False, 2.118e+03), ( True, 9.700e+01),\n",
              "       (False, 2.113e+03), ( True, 1.000e+02), (False, 2.032e+03),\n",
              "       ( True, 1.317e+03), (False, 2.126e+03), (False, 2.126e+03),\n",
              "       (False, 2.123e+03), ( True, 6.700e+02), ( True, 3.430e+02),\n",
              "       ( True, 3.000e+00), (False, 2.009e+03), ( True, 6.400e+01),\n",
              "       (False, 1.994e+03), ( True, 1.579e+03), (False, 1.993e+03),\n",
              "       ( True, 2.000e+00), (False, 1.955e+03), ( True, 4.200e+01),\n",
              "       (False, 1.964e+03), ( True, 1.548e+03), ( True, 4.460e+02),\n",
              "       (False, 1.976e+03), (False, 2.009e+03), (False, 1.942e+03),\n",
              "       ( True, 1.000e+00), ( True, 1.510e+02), (False, 2.006e+03),\n",
              "       (False, 2.086e+03), (False, 1.969e+03), (False, 1.939e+03),\n",
              "       (False, 1.939e+03), (False, 1.940e+03), ( True, 1.576e+03),\n",
              "       (False, 1.941e+03), ( True, 1.970e+02), (False, 1.933e+03),\n",
              "       ( True, 9.500e+01), ( True, 2.160e+03), (False, 2.084e+03),\n",
              "       (False, 2.145e+03), (False, 2.125e+03), (False, 1.920e+03),\n",
              "       ( True, 4.000e+00), ( True, 1.553e+03), ( True, 2.350e+02),\n",
              "       ( True, 1.920e+02), ( True, 1.233e+03), ( True, 8.800e+01),\n",
              "       ( True, 1.954e+03), ( True, 9.030e+02), ( True, 6.120e+02),\n",
              "       (False, 2.025e+03), ( True, 2.000e+00), ( True, 7.000e+00),\n",
              "       (False, 1.887e+03), ( True, 1.870e+02), ( True, 1.010e+02),\n",
              "       (False, 1.885e+03), ( True, 9.360e+02), ( True, 3.630e+02),\n",
              "       ( True, 1.048e+03), (False, 1.977e+03), (False, 1.936e+03),\n",
              "       (False, 1.887e+03), (False, 1.889e+03), (False, 1.923e+03),\n",
              "       (False, 2.123e+03), ( True, 1.100e+01), (False, 2.100e+03),\n",
              "       (False, 1.914e+03), (False, 1.883e+03), ( True, 3.300e+01),\n",
              "       (False, 1.931e+03), ( True, 1.506e+03), (False, 1.858e+03),\n",
              "       ( True, 6.000e+00), (False, 1.854e+03), (False, 1.847e+03),\n",
              "       (False, 1.858e+03), ( True, 1.870e+02), ( True, 4.600e+01),\n",
              "       (False, 2.061e+03), (False, 1.893e+03), (False, 2.108e+03),\n",
              "       ( True, 8.300e+01), ( True, 3.300e+01), ( True, 1.377e+03),\n",
              "       (False, 1.863e+03), (False, 1.880e+03), ( True, 1.359e+03),\n",
              "       (False, 1.831e+03), (False, 1.836e+03), ( True, 1.159e+03),\n",
              "       ( True, 1.130e+02), ( True, 1.217e+03), (False, 1.899e+03),\n",
              "       (False, 1.934e+03), ( True, 1.527e+03), (False, 1.954e+03),\n",
              "       (False, 1.979e+03), ( True, 1.232e+03), (False, 2.066e+03),\n",
              "       ( True, 1.624e+03), ( True, 5.300e+02), ( True, 1.096e+03),\n",
              "       ( True, 3.450e+02), (False, 1.919e+03), ( True, 1.577e+03),\n",
              "       (False, 1.883e+03), (False, 1.904e+03), (False, 2.083e+03),\n",
              "       ( True, 1.460e+02), ( True, 2.350e+03), ( True, 1.926e+03),\n",
              "       (False, 2.114e+03), ( True, 7.180e+02), (False, 1.451e+03),\n",
              "       ( True, 3.580e+02), ( True, 4.650e+02), (False, 1.381e+03),\n",
              "       ( True, 1.100e+01), (False, 1.385e+03), (False, 1.346e+03),\n",
              "       (False, 1.338e+03), ( True, 1.370e+02), (False, 1.449e+03),\n",
              "       ( True, 1.700e+01), ( True, 1.536e+03), ( True, 1.627e+03),\n",
              "       ( True, 1.000e+01), ( True, 1.000e+00), ( True, 1.000e+00),\n",
              "       ( True, 3.130e+02), ( True, 1.200e+03), (False, 1.384e+03),\n",
              "       ( True, 1.660e+02), (False, 1.420e+03), ( True, 5.620e+02),\n",
              "       (False, 1.302e+03), (False, 1.253e+03), (False, 1.438e+03),\n",
              "       (False, 1.400e+03), (False, 1.329e+03), (False, 1.325e+03),\n",
              "       (False, 1.257e+03), (False, 1.319e+03), (False, 1.256e+03),\n",
              "       (False, 1.298e+03), ( True, 1.800e+01), (False, 1.408e+03),\n",
              "       (False, 1.333e+03), (False, 1.378e+03), (False, 1.353e+03),\n",
              "       ( True, 6.540e+02), (False, 1.262e+03), (False, 1.314e+03),\n",
              "       (False, 1.280e+03), (False, 1.308e+03), (False, 1.433e+03),\n",
              "       (False, 1.430e+03), ( True, 7.000e+00), ( True, 1.000e+00),\n",
              "       (False, 1.272e+03), (False, 1.277e+03), ( True, 1.080e+02),\n",
              "       ( True, 2.000e+00), (False, 1.409e+03), (False, 1.454e+03),\n",
              "       ( True, 1.090e+02), (False, 1.363e+03), (False, 1.374e+03),\n",
              "       (False, 1.365e+03), ( True, 6.000e+00), ( True, 2.000e+02),\n",
              "       (False, 1.336e+03), (False, 1.317e+03), ( True, 1.340e+02),\n",
              "       ( True, 5.700e+01), ( True, 1.165e+03), ( True, 1.400e+02),\n",
              "       ( True, 2.000e+01), ( True, 7.000e+00), (False, 1.190e+03),\n",
              "       ( True, 1.400e+02), ( True, 1.054e+03), (False, 1.108e+03),\n",
              "       (False, 1.106e+03), (False, 1.106e+03), ( True, 2.590e+02),\n",
              "       ( True, 1.000e+00), (False, 1.125e+03), (False, 1.162e+03),\n",
              "       (False, 1.140e+03), (False, 1.157e+03), (False, 1.231e+03),\n",
              "       ( True, 9.530e+02), (False, 1.248e+03), (False, 1.235e+03),\n",
              "       (False, 1.290e+03), ( True, 1.152e+03), ( True, 1.900e+01),\n",
              "       (False, 1.251e+03), ( True, 1.136e+03), (False, 1.182e+03),\n",
              "       ( True, 2.000e+00), ( True, 1.690e+02), ( True, 7.040e+02),\n",
              "       ( True, 1.430e+02), ( True, 2.000e+00), (False, 1.232e+03),\n",
              "       ( True, 4.790e+02), (False, 1.211e+03), (False, 1.232e+03),\n",
              "       (False, 1.223e+03), (False, 1.191e+03), ( True, 1.100e+01),\n",
              "       ( True, 1.000e+01), (False, 1.117e+03), ( True, 1.174e+03),\n",
              "       (False, 1.123e+03), ( True, 3.850e+02), (False, 1.109e+03),\n",
              "       (False, 1.098e+03), (False, 1.114e+03), ( True, 6.400e+01),\n",
              "       (False, 1.151e+03), ( True, 9.100e+01), ( True, 6.140e+02),\n",
              "       (False, 1.140e+03), ( True, 5.420e+02), (False, 1.199e+03),\n",
              "       (False, 1.248e+03), (False, 1.163e+03), ( True, 3.210e+02),\n",
              "       (False, 1.187e+03), (False, 1.207e+03), ( True, 2.950e+02),\n",
              "       (False, 1.273e+03), (False, 1.189e+03), (False, 1.234e+03),\n",
              "       ( True, 5.200e+01), (False, 1.203e+03), ( True, 1.290e+02),\n",
              "       ( True, 2.970e+02), (False, 1.458e+03), ( True, 1.170e+02),\n",
              "       ( True, 3.120e+02), (False, 1.244e+03), (False, 1.160e+03),\n",
              "       ( True, 2.870e+02), ( True, 1.377e+03), (False, 1.320e+03),\n",
              "       (False, 1.245e+03), ( True, 4.970e+02), ( True, 2.890e+02),\n",
              "       (False, 1.150e+03), (False, 1.266e+03), (False, 1.266e+03),\n",
              "       (False, 1.265e+03), (False, 1.126e+03), ( True, 2.600e+01),\n",
              "       ( True, 1.320e+02), ( True, 5.520e+02), (False, 1.444e+03),\n",
              "       ( True, 1.400e+01), (False, 1.454e+03), (False, 1.123e+03),\n",
              "       (False, 1.279e+03), (False, 1.366e+03), (False, 1.196e+03),\n",
              "       ( True, 1.350e+02), (False, 1.114e+03), ( True, 3.700e+01),\n",
              "       (False, 1.390e+03), ( True, 3.200e+01), (False, 1.187e+03),\n",
              "       (False, 1.224e+03), (False, 1.121e+03), ( True, 1.900e+01),\n",
              "       (False, 1.456e+03), (False, 1.332e+03), (False, 1.174e+03),\n",
              "       (False, 1.274e+03), ( True, 3.820e+02), (False, 1.295e+03),\n",
              "       (False, 1.102e+03), (False, 1.169e+03), (False, 1.136e+03),\n",
              "       (False, 1.105e+03), (False, 1.320e+03), ( True, 1.279e+03),\n",
              "       (False, 1.178e+03), (False, 1.170e+03), (False, 1.336e+03),\n",
              "       ( True, 2.200e+01), (False, 1.103e+03), (False, 1.107e+03),\n",
              "       (False, 1.347e+03), ( True, 6.320e+02), (False, 1.161e+03),\n",
              "       (False, 1.388e+03), ( True, 6.000e+00), ( True, 3.200e+01),\n",
              "       (False, 5.730e+02), (False, 5.500e+02), (False, 5.700e+02),\n",
              "       ( True, 1.600e+01), ( True, 5.000e+00), (False, 5.780e+02),\n",
              "       ( True, 1.000e+00), (False, 5.500e+02), (False, 5.890e+02),\n",
              "       (False, 5.420e+02), ( True, 2.260e+02), ( True, 8.100e+01),\n",
              "       (False, 5.500e+02), (False, 5.290e+02), (False, 5.230e+02),\n",
              "       (False, 5.220e+02), (False, 5.100e+02), (False, 5.240e+02),\n",
              "       (False, 4.800e+02), (False, 4.590e+02), ( True, 4.190e+02),\n",
              "       (False, 4.330e+02), (False, 4.450e+02), (False, 5.160e+02),\n",
              "       ( True, 3.400e+01), (False, 4.120e+02), (False, 3.980e+02),\n",
              "       (False, 3.970e+02), (False, 4.030e+02), (False, 3.860e+02),\n",
              "       (False, 3.760e+02), (False, 3.730e+02), (False, 3.710e+02),\n",
              "       (False, 6.590e+02), ( True, 2.330e+02), (False, 6.310e+02),\n",
              "       ( True, 6.000e+01), ( True, 5.370e+02), ( True, 4.730e+02),\n",
              "       (False, 6.750e+02), ( True, 6.460e+02), (False, 5.890e+02),\n",
              "       (False, 6.060e+02), ( True, 2.740e+02), ( True, 1.690e+02),\n",
              "       (False, 5.680e+02), ( True, 6.730e+02), ( True, 5.590e+02),\n",
              "       ( True, 9.300e+01), ( True, 5.500e+01), (False, 5.440e+02),\n",
              "       ( True, 6.490e+02), (False, 5.070e+02), (False, 5.210e+02),\n",
              "       ( True, 4.060e+02), (False, 5.870e+02), (False, 5.320e+02),\n",
              "       ( True, 5.300e+01), (False, 4.660e+02), (False, 4.420e+02),\n",
              "       ( True, 1.450e+02), ( True, 3.300e+01), (False, 4.510e+02),\n",
              "       (False, 4.970e+02), ( True, 1.700e+01), (False, 5.060e+02),\n",
              "       (False, 5.210e+02), ( True, 1.160e+02), ( True, 6.200e+01),\n",
              "       ( True, 2.690e+02), ( True, 1.100e+01), (False, 5.160e+02),\n",
              "       (False, 4.780e+02), ( True, 4.900e+01), (False, 4.860e+02),\n",
              "       ( True, 7.600e+01), ( True, 1.000e+00), (False, 5.110e+02),\n",
              "       (False, 4.580e+02), (False, 4.400e+02), (False, 4.520e+02),\n",
              "       ( True, 1.800e+01), ( True, 1.800e+01), ( True, 5.000e+00),\n",
              "       ( True, 2.000e+01), ( True, 3.920e+02), ( True, 6.900e+01),\n",
              "       ( True, 2.000e+00), ( True, 2.200e+01), (False, 4.260e+02),\n",
              "       (False, 4.490e+02), ( True, 7.000e+00), (False, 4.030e+02),\n",
              "       (False, 3.710e+02), (False, 3.680e+02), (False, 4.110e+02),\n",
              "       (False, 3.900e+02), ( True, 3.590e+02), (False, 4.080e+02),\n",
              "       (False, 4.070e+02), (False, 4.220e+02), (False, 3.760e+02),\n",
              "       ( True, 3.590e+02), ( True, 5.700e+01), ( True, 3.280e+02),\n",
              "       (False, 4.120e+02), ( True, 3.000e+00), (False, 4.580e+02),\n",
              "       (False, 4.180e+02), (False, 4.450e+02), (False, 4.590e+02),\n",
              "       ( True, 2.000e+00), (False, 4.240e+02), (False, 4.160e+02),\n",
              "       ( True, 3.000e+00), (False, 4.270e+02), (False, 4.450e+02),\n",
              "       (False, 4.210e+02), ( True, 4.000e+00), (False, 3.990e+02),\n",
              "       (False, 5.190e+02), (False, 6.090e+02), (False, 4.460e+02),\n",
              "       (False, 6.260e+02), (False, 4.450e+02), ( True, 1.900e+01),\n",
              "       (False, 4.500e+02), (False, 4.000e+02), (False, 4.580e+02),\n",
              "       (False, 5.350e+02), ( True, 4.420e+02), ( True, 4.050e+02),\n",
              "       (False, 4.570e+02), (False, 4.370e+02), (False, 5.510e+02),\n",
              "       (False, 3.710e+02), ( True, 4.670e+02), ( True, 6.440e+02),\n",
              "       (False, 3.860e+02), (False, 5.540e+02), (False, 5.730e+02),\n",
              "       (False, 4.750e+02), ( True, 3.970e+02), ( True, 1.400e+01),\n",
              "       ( True, 7.000e+00), ( True, 6.900e+01), ( True, 3.100e+01),\n",
              "       ( True, 1.000e+01), (False, 6.620e+02), (False, 7.250e+02),\n",
              "       (False, 5.320e+02), ( True, 2.590e+02)],\n",
              "      dtype=[('fstat', '?'), ('lenfol', '<f8')])"
            ]
          },
          "metadata": {},
          "execution_count": 6
        }
      ]
    },
    {
      "cell_type": "code",
      "source": [
        "estimator = RandomSurvivalForest().fit(X, y)"
      ],
      "metadata": {
        "id": "ZnoxYpEgjwNw"
      },
      "execution_count": 7,
      "outputs": []
    },
    {
      "cell_type": "code",
      "source": [
        "chf_funcs = estimator.predict_cumulative_hazard_function(X.iloc[:5])"
      ],
      "metadata": {
        "id": "Kb8M1y7QjwRJ"
      },
      "execution_count": 8,
      "outputs": []
    },
    {
      "cell_type": "code",
      "source": [
        "for fn in chf_funcs:\n",
        "   plt.step(fn.x, fn(fn.x), where=\"post\")\n",
        "\n",
        "plt.ylim(0, 1)\n",
        "plt.show()"
      ],
      "metadata": {
        "colab": {
          "base_uri": "https://localhost:8080/",
          "height": 435
        },
        "id": "c29Y4OyxjwUG",
        "outputId": "6f6544f2-9244-4c55-b77f-b23f31a4704d"
      },
      "execution_count": 9,
      "outputs": [
        {
          "output_type": "display_data",
          "data": {
            "text/plain": [
              "<Figure size 640x480 with 1 Axes>"
            ],
            "image/png": "[encoded data removed]"
          },
          "metadata": {}
        }
      ]
    },
    {
      "cell_type": "code",
      "source": [
        "# tree"
      ],
      "metadata": {
        "id": "fV5ULQbYkAkG"
      },
      "execution_count": 10,
      "outputs": []
    },
    {
      "cell_type": "code",
      "source": [
        "# Tree\n",
        "from sksurv.tree import SurvivalTree"
      ],
      "metadata": {
        "id": "pSX653nTkAnO"
      },
      "execution_count": 11,
      "outputs": []
    },
    {
      "cell_type": "code",
      "source": [
        "estimator = SurvivalTree().fit(X, y)"
      ],
      "metadata": {
        "id": "ejW8zh0ukApa"
      },
      "execution_count": 12,
      "outputs": []
    },
    {
      "cell_type": "code",
      "source": [
        "chf_funcs = estimator.predict_cumulative_hazard_function(X.iloc[:5])"
      ],
      "metadata": {
        "id": "nNggbdOAkLcv"
      },
      "execution_count": 13,
      "outputs": []
    },
    {
      "cell_type": "code",
      "source": [
        "for fn in chf_funcs:\n",
        "   plt.step(fn.x, fn(fn.x), where=\"post\")\n",
        "\n",
        "plt.ylim(0, 1)\n",
        "plt.show()"
      ],
      "metadata": {
        "colab": {
          "base_uri": "https://localhost:8080/",
          "height": 435
        },
        "id": "qyEzORGRkLjt",
        "outputId": "79a8ec8a-7046-4e99-a5ee-ade05ce264a1"
      },
      "execution_count": 14,
      "outputs": [
        {
          "output_type": "display_data",
          "data": {
            "text/plain": [
              "<Figure size 640x480 with 1 Axes>"
            ],
            "image/png": "[encoded data removed]"
          },
          "metadata": {}
        }
      ]
    },
    {
      "cell_type": "code",
      "source": [
        "# extra teee\n",
        "from sksurv.ensemble import ExtraSurvivalTrees"
      ],
      "metadata": {
        "id": "QR9JVFCikLna"
      },
      "execution_count": 15,
      "outputs": []
    },
    {
      "cell_type": "code",
      "source": [
        "estimator = ExtraSurvivalTrees().fit(X, y)"
      ],
      "metadata": {
        "id": "9a7jRhnnkLqN"
      },
      "execution_count": 16,
      "outputs": []
    },
    {
      "cell_type": "code",
      "source": [
        "surv_funcs = estimator.predict_cumulative_hazard_function(X.iloc[:5])"
      ],
      "metadata": {
        "id": "ZO1CvgOdkVTe"
      },
      "execution_count": 17,
      "outputs": []
    },
    {
      "cell_type": "code",
      "source": [
        "for fn in surv_funcs:\n",
        "   plt.step(fn.x, fn(fn.x), where=\"post\")\n",
        "\n",
        "plt.ylim(0, 1)\n",
        "plt.show()"
      ],
      "metadata": {
        "colab": {
          "base_uri": "https://localhost:8080/",
          "height": 435
        },
        "id": "PFIKm675kVUl",
        "outputId": "65b1691d-1b1b-4271-e418-c3d88c90d585"
      },
      "execution_count": 18,
      "outputs": [
        {
          "output_type": "display_data",
          "data": {
            "text/plain": [
              "<Figure size 640x480 with 1 Axes>"
            ],
            "image/png": "[encoded data removed]"
          },
          "metadata": {}
        }
      ]
    },
    {
      "cell_type": "code",
      "source": [
        "# GradientBoosting\n",
        "from sksurv.ensemble import GradientBoostingSurvivalAnalysis"
      ],
      "metadata": {
        "id": "dk7t3DThkbjG"
      },
      "execution_count": 19,
      "outputs": []
    },
    {
      "cell_type": "code",
      "source": [
        "estimator = GradientBoostingSurvivalAnalysis(loss=\"coxph\").fit(X, y)"
      ],
      "metadata": {
        "id": "DXVjiAGKkbm0"
      },
      "execution_count": 20,
      "outputs": []
    },
    {
      "cell_type": "code",
      "source": [
        "chf_funcs = estimator.predict_cumulative_hazard_function(X.iloc[:5])"
      ],
      "metadata": {
        "id": "bfOp5DcZkVXQ"
      },
      "execution_count": 21,
      "outputs": []
    },
    {
      "cell_type": "code",
      "source": [
        "for fn in chf_funcs:\n",
        "    plt.step(fn.x, fn(fn.x), where=\"post\")\n",
        "\n",
        "plt.ylim(0, 1)\n",
        "plt.show()"
      ],
      "metadata": {
        "colab": {
          "base_uri": "https://localhost:8080/",
          "height": 435
        },
        "id": "BPKPZ5tukj6_",
        "outputId": "95f5e339-3092-4cd4-e6aa-7c5fdeacc289"
      },
      "execution_count": 22,
      "outputs": [
        {
          "output_type": "display_data",
          "data": {
            "text/plain": [
              "<Figure size 640x480 with 1 Axes>"
            ],
            "image/png": "[encoded data removed]"
          },
          "metadata": {}
        }
      ]
    }
  ]
}